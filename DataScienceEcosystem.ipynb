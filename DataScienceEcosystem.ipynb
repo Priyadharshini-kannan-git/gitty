{
 "cells": [
  {
   "cell_type": "markdown",
   "id": "79f65adc",
   "metadata": {},
   "source": [
    "# Data Science Tools and Ecosystem"
   ]
  },
  {
   "cell_type": "markdown",
   "id": "a4803658",
   "metadata": {},
   "source": [
    "In this notebook , Data Science Tools and Ecosystem are summarized.\n",
    "\n",
    "**Objectives**\n",
    "\n",
    "The Data Science Task Categories are:\n",
    "\n",
    "- Data Management\n",
    "\n",
    "- Data Integration and Transformation\n",
    "\n",
    "- Data Visualization\n",
    "\n",
    "- Model Building\n",
    "\n",
    "- Model Deployment\n",
    "\n",
    "- Model Monitoring and Assessment\n",
    "\n",
    "\n",
    "\n"
   ]
  },
  {
   "cell_type": "markdown",
   "id": "6c2ae3a4",
   "metadata": {},
   "source": [
    "Some of the popular languages that Data Scientists use are :\n",
    "1. Python\n",
    "2. R\n",
    "3. SQL\n",
    "4. Java \n",
    "5. Julia\n",
    "6. C++\n"
   ]
  },
  {
   "cell_type": "markdown",
   "id": "53443f8b",
   "metadata": {},
   "source": [
    "Some of the commanly used libraries used by Data Scientists include :\n",
    "1. Numpy\n",
    "2. Pandas\n",
    "3. Scikit-learn\n",
    "4. Tensorflow\n"
   ]
  },
  {
   "cell_type": "markdown",
   "id": "53a1df70",
   "metadata": {},
   "source": [
    "| Data Science Tool |\n",
    "-----------------------------\n",
    "| Tableau |\n",
    "| Excel |\n",
    "| Matlab |"
   ]
  },
  {
   "cell_type": "markdown",
   "id": "07ef73be",
   "metadata": {},
   "source": [
    "Below are a few examples of evaluating arithmetic expressions in Python."
   ]
  },
  {
   "cell_type": "code",
   "execution_count": 1,
   "id": "f3192100",
   "metadata": {},
   "outputs": [
    {
     "data": {
      "text/plain": [
       "17"
      ]
     },
     "execution_count": 1,
     "metadata": {},
     "output_type": "execute_result"
    }
   ],
   "source": [
    "# this is the simple arithetic expression to multiply then add integers\n",
    "(3*4+5)"
   ]
  },
  {
   "cell_type": "code",
   "execution_count": 2,
   "id": "1a160cad",
   "metadata": {},
   "outputs": [
    {
     "name": "stdout",
     "output_type": "stream",
     "text": [
      "3\n"
     ]
    }
   ],
   "source": [
    "#this will convert 200 minutes to hours by dividing by 60\n",
    "hours = 200//60\n",
    "print(hours)"
   ]
  },
  {
   "cell_type": "markdown",
   "id": "69fbef39",
   "metadata": {},
   "source": [
    "## Author\n",
    "\n",
    "Priyadharshini\n"
   ]
  },
  {
   "cell_type": "code",
   "execution_count": null,
   "id": "6d53f0ff",
   "metadata": {},
   "outputs": [],
   "source": []
  }
 ],
 "metadata": {
  "kernelspec": {
   "display_name": "Python 3 (ipykernel)",
   "language": "python",
   "name": "python3"
  },
  "language_info": {
   "codemirror_mode": {
    "name": "ipython",
    "version": 3
   },
   "file_extension": ".py",
   "mimetype": "text/x-python",
   "name": "python",
   "nbconvert_exporter": "python",
   "pygments_lexer": "ipython3",
   "version": "3.10.9"
  }
 },
 "nbformat": 4,
 "nbformat_minor": 5
}
